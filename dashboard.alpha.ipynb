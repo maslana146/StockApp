{
 "cells": [
  {
   "cell_type": "code",
   "execution_count": 183,
   "metadata": {},
   "outputs": [],
   "source": [
    "import plotly.express as px\n",
    "import plotly.graph_objects as go\n",
    "from jupyter_dash import JupyterDash\n",
    "import dash_core_components as dcc\n",
    "import dash_html_components as html\n",
    "from dash.dependencies import Input, Output, State\n",
    "import requests\n",
    "import pandas as pd\n",
    "from requests import Request, Session\n",
    "from requests.exceptions import ConnectionError, Timeout, TooManyRedirects\n",
    "from datetime import datetime\n",
    "import urllib.request\n",
    "import dash_table\n",
    "import dash_table.FormatTemplate as FormatTemplate\n",
    "from dash_table.Format import Sign\n",
    "import numpy as np\n",
    "import ssl\n",
    "import json\n",
    "import time\n"
   ]
  },
  {
   "cell_type": "code",
   "execution_count": 184,
   "metadata": {},
   "outputs": [],
   "source": [
    "def get_n_top_coins(n=10):\n",
    "    url = 'https://api.lunarcrush.com/v2?data=market&key=39o5gbbtx7n1gxkvnhf6na&limit={}&sort=acr&type=fast'.format(n)\n",
    "    response = requests.get(url).json()\n",
    "    df = pd.json_normalize(response['data'])\n",
    "    df.rename(columns={\n",
    "        's': 'Symbol',\n",
    "        'n': 'Name',\n",
    "        'p': 'Price',\n",
    "        'v': 'Volume',\n",
    "        'pc': '24 Hours',\n",
    "        'pch': '1 Hour',\n",
    "        'mc': 'Market Cap',\n",
    "        'gs': 'Galaxy Score',\n",
    "        'ss': 'Social Score',\n",
    "        'acr': 'ALTRank',\n",
    "        't':'Number of tweets',\n",
    "        'sd':'Social Dominance',\n",
    "        'd' : 'Market Dominance'\n",
    "        }, inplace=True)\n",
    "    df['24 Hours'] = df['24 Hours'].div(100).round(4)\n",
    "    df['1 Hour'] = df['1 Hour'].div(100).round(4)\n",
    "\n",
    "    return df[['ALTRank','Galaxy Score','Social Score','Symbol','Name','Price','Volume','24 Hours','1 Hour','Market Cap','Number of tweets','Social Dominance','Market Dominance']]\n"
   ]
  },
  {
   "cell_type": "code",
   "execution_count": 185,
   "metadata": {},
   "outputs": [],
   "source": [
    "def get_market_table(n=50):\n",
    "    market_data = get_n_top_coins(n)\n",
    "    market_table = dash_table.DataTable(\n",
    "        id='market_table',\n",
    "        data=market_data.to_dict('records'),\n",
    "        columns=[\n",
    "            {'id': 'ALTRank', 'name': 'ALTRank', 'type': 'numeric'},\n",
    "            {'id': 'Galaxy Score', 'name': 'Galaxy Score (PT)',\n",
    "             'type': 'numeric'},\n",
    "            {'id': 'Social Score', 'name': 'Social Score (PT)',\n",
    "             'type': 'numeric'},\n",
    "            {'id': 'Symbol', 'name': 'Symbol', 'type': 'text'},\n",
    "            {'id': 'Name', 'name': 'Name', 'type': 'text'},\n",
    "            {\n",
    "                'id': 'Price',\n",
    "                'name': 'Price',\n",
    "                'type': 'numeric',\n",
    "                'format': FormatTemplate.money(6),\n",
    "                },\n",
    "            {\n",
    "                'id': 'Volume',\n",
    "                'name': 'Volume',\n",
    "                'type': 'numeric',\n",
    "                'format': FormatTemplate.money(2),\n",
    "                },\n",
    "            {\n",
    "                'id': '24 Hours',\n",
    "                'name': '24 Hours',\n",
    "                'type': 'numeric',\n",
    "                'format': FormatTemplate.percentage(2).sign(Sign.positive),\n",
    "                },\n",
    "            {\n",
    "                'id': '1 Hour',\n",
    "                'name': '1 Hour',\n",
    "                'type': 'numeric',\n",
    "                'format': FormatTemplate.percentage(2).sign(Sign.positive),\n",
    "                },\n",
    "            {\n",
    "                'id': 'Market Cap',\n",
    "                'name': 'Market Cap',\n",
    "                'type': 'numeric',\n",
    "                'format': FormatTemplate.money(0),\n",
    "                },\n",
    "            ],\n",
    "        style_data_conditional=[\n",
    "    #         data_bars(market_data, 'Volume')[0],\n",
    "            {'if': {'filter_query': '{24 Hours} > 0',\n",
    "             'column_id': '24 Hours'}, 'color': 'green',\n",
    "             'fontWeight': 'bold'},\n",
    "            {'if': {'filter_query': '{24 Hours} < 0',\n",
    "             'column_id': '24 Hours'}, 'color': 'red', 'fontWeight': 'bold'\n",
    "             },\n",
    "            {'if': {'filter_query': '{24 Hours} = 0',\n",
    "             'column_id': '24 Hours'}, 'color': 'blue', 'fontWeight': 'bold'\n",
    "             },\n",
    "            {'if': {'filter_query': '{1 Hour} > 0', 'column_id': '1 Hour'},\n",
    "             'color': 'green', 'fontWeight': 'bold'},\n",
    "            {'if': {'filter_query': '{1 Hour} < 0', 'column_id': '1 Hour'},\n",
    "             'color': 'red', 'fontWeight': 'bold'},\n",
    "            {'if': {'filter_query': '{1 Hour} = 0', 'column_id': '1 Hour'},\n",
    "             'color': 'blue', 'fontWeight': 'bold'},\n",
    "            {'if': {'row_index': 'odd'},\n",
    "             'backgroundColor': '#061e44'},\n",
    "            ],\n",
    "        style_cell_conditional=[{'if': {'column_id': 'Name'},\n",
    "                                'textAlign': 'left'}, \n",
    "    #                             {\n",
    "    #         'if': {'column_id': 'Volume'},\n",
    "    #         'width': '200px',\n",
    "    #         'color': 'blue',\n",
    "    #         'minWidth': '200px',\n",
    "    #         'maxWidth': '200px',\n",
    "    #         'overflow': 'hidden',\n",
    "    #         'textOverflow': 'ellipsis',}, \n",
    "                                {'if': {'column_id': ('Symbol','ALTRank','Galaxy Score')}, \n",
    "                                 'fontWeight': 'bold',\n",
    "                                 'textAlign': 'center'}],\n",
    "        style_header={'backgroundColor': '#13326c',\n",
    "                      'fontWeight': 'bold',\n",
    "                      'fontSize':17,\n",
    "                     },\n",
    "        style_cell = {'fontSize':15,\n",
    "                      'font-family':'Lucida Console',\n",
    "                      'backgroundColor':\"#082255\",\n",
    "                      'color':'#e5e9f0',\n",
    "                      'border':'1px solid #082255'},\n",
    "        # jakiś error podczas sortowania np 24 hours lub 1houur\n",
    "        sort_action='native',\n",
    "        editable=False,\n",
    "        style_as_list_view=True,\n",
    "        page_size=5,\n",
    "    #     fill_width=False\n",
    "        )\n",
    "    return market_table"
   ]
  },
  {
   "cell_type": "code",
   "execution_count": 186,
   "metadata": {},
   "outputs": [],
   "source": [
    "def get_coin_data(symbol,data_points=365,interval='day'):\n",
    "    url = \"https://api.lunarcrush.com/v2?data=assets&key=39o5gbbtx7n1gxkvnhf6na&symbol={}&data_points={}&interval={}\".format(symbol,data_points,interval)\n",
    "    response = requests.get(url).json()\n",
    "    data = response['data'][0]\n",
    "    df = pd.json_normalize(data['timeSeries'])\n",
    "    df['time'] = pd.to_datetime(df['time'],unit='s')\n",
    "    data = pd.json_normalize(data)\n",
    "    details = data[['name','symbol','price_btc','market_cap','percent_change_24h','percent_change_7d','percent_change_30d','volume_24h','max_supply']]\n",
    "\n",
    "    return (df,details.to_dict(orient='records')[0])"
   ]
  },
  {
   "cell_type": "code",
   "execution_count": 187,
   "metadata": {},
   "outputs": [
    {
     "data": {
      "text/html": [
       "<div>\n",
       "<style scoped>\n",
       "    .dataframe tbody tr th:only-of-type {\n",
       "        vertical-align: middle;\n",
       "    }\n",
       "\n",
       "    .dataframe tbody tr th {\n",
       "        vertical-align: top;\n",
       "    }\n",
       "\n",
       "    .dataframe thead th {\n",
       "        text-align: right;\n",
       "    }\n",
       "</style>\n",
       "<table border=\"1\" class=\"dataframe\">\n",
       "  <thead>\n",
       "    <tr style=\"text-align: right;\">\n",
       "      <th></th>\n",
       "      <th>asset_id</th>\n",
       "      <th>time</th>\n",
       "      <th>open</th>\n",
       "      <th>close</th>\n",
       "      <th>high</th>\n",
       "      <th>low</th>\n",
       "      <th>volume</th>\n",
       "      <th>market_cap</th>\n",
       "      <th>url_shares</th>\n",
       "      <th>unique_url_shares</th>\n",
       "      <th>...</th>\n",
       "      <th>medium</th>\n",
       "      <th>youtube</th>\n",
       "      <th>social_contributors</th>\n",
       "      <th>social_volume</th>\n",
       "      <th>price_btc</th>\n",
       "      <th>social_volume_global</th>\n",
       "      <th>social_dominance</th>\n",
       "      <th>market_cap_global</th>\n",
       "      <th>market_dominance</th>\n",
       "      <th>percent_change_24h</th>\n",
       "    </tr>\n",
       "  </thead>\n",
       "  <tbody>\n",
       "    <tr>\n",
       "      <th>0</th>\n",
       "      <td>1</td>\n",
       "      <td>2020-05-07</td>\n",
       "      <td>9339.670316</td>\n",
       "      <td>9972.584023</td>\n",
       "      <td>9972.584023</td>\n",
       "      <td>9339.670316</td>\n",
       "      <td>66200111108</td>\n",
       "      <td>1.720972e+11</td>\n",
       "      <td>39758</td>\n",
       "      <td>23668</td>\n",
       "      <td>...</td>\n",
       "      <td>30.0</td>\n",
       "      <td>56.0</td>\n",
       "      <td>28758</td>\n",
       "      <td>193886</td>\n",
       "      <td>1</td>\n",
       "      <td>349379</td>\n",
       "      <td>55.494463</td>\n",
       "      <td>272568627918</td>\n",
       "      <td>63.139021</td>\n",
       "      <td>9.183341</td>\n",
       "    </tr>\n",
       "    <tr>\n",
       "      <th>1</th>\n",
       "      <td>1</td>\n",
       "      <td>2020-05-08</td>\n",
       "      <td>9942.673964</td>\n",
       "      <td>9844.867939</td>\n",
       "      <td>9942.673964</td>\n",
       "      <td>9833.070782</td>\n",
       "      <td>57650692921</td>\n",
       "      <td>1.810168e+11</td>\n",
       "      <td>37721</td>\n",
       "      <td>22187</td>\n",
       "      <td>...</td>\n",
       "      <td>25.0</td>\n",
       "      <td>48.0</td>\n",
       "      <td>36141</td>\n",
       "      <td>160423</td>\n",
       "      <td>1</td>\n",
       "      <td>333372</td>\n",
       "      <td>48.121318</td>\n",
       "      <td>270067625347</td>\n",
       "      <td>67.026478</td>\n",
       "      <td>-1.280672</td>\n",
       "    </tr>\n",
       "    <tr>\n",
       "      <th>2</th>\n",
       "      <td>1</td>\n",
       "      <td>2020-05-09</td>\n",
       "      <td>9829.918495</td>\n",
       "      <td>9574.098730</td>\n",
       "      <td>9829.918495</td>\n",
       "      <td>9574.098730</td>\n",
       "      <td>48237707683</td>\n",
       "      <td>1.779054e+11</td>\n",
       "      <td>37514</td>\n",
       "      <td>19693</td>\n",
       "      <td>...</td>\n",
       "      <td>24.0</td>\n",
       "      <td>63.0</td>\n",
       "      <td>28251</td>\n",
       "      <td>162925</td>\n",
       "      <td>1</td>\n",
       "      <td>290032</td>\n",
       "      <td>56.174836</td>\n",
       "      <td>265101113579</td>\n",
       "      <td>67.108500</td>\n",
       "      <td>-2.750359</td>\n",
       "    </tr>\n",
       "    <tr>\n",
       "      <th>3</th>\n",
       "      <td>1</td>\n",
       "      <td>2020-05-10</td>\n",
       "      <td>9260.257076</td>\n",
       "      <td>8750.250756</td>\n",
       "      <td>9260.257076</td>\n",
       "      <td>8355.023315</td>\n",
       "      <td>69141896093</td>\n",
       "      <td>1.604725e+11</td>\n",
       "      <td>37403</td>\n",
       "      <td>20559</td>\n",
       "      <td>...</td>\n",
       "      <td>26.0</td>\n",
       "      <td>67.0</td>\n",
       "      <td>34522</td>\n",
       "      <td>159492</td>\n",
       "      <td>1</td>\n",
       "      <td>270693</td>\n",
       "      <td>58.919883</td>\n",
       "      <td>244002332325</td>\n",
       "      <td>65.766781</td>\n",
       "      <td>-8.604966</td>\n",
       "    </tr>\n",
       "    <tr>\n",
       "      <th>4</th>\n",
       "      <td>1</td>\n",
       "      <td>2020-05-11</td>\n",
       "      <td>8708.713290</td>\n",
       "      <td>8610.172121</td>\n",
       "      <td>9010.995404</td>\n",
       "      <td>8395.370859</td>\n",
       "      <td>63796473623</td>\n",
       "      <td>1.637024e+11</td>\n",
       "      <td>54206</td>\n",
       "      <td>29210</td>\n",
       "      <td>...</td>\n",
       "      <td>39.0</td>\n",
       "      <td>77.0</td>\n",
       "      <td>31069</td>\n",
       "      <td>281147</td>\n",
       "      <td>1</td>\n",
       "      <td>406627</td>\n",
       "      <td>69.141252</td>\n",
       "      <td>240427603037</td>\n",
       "      <td>68.088031</td>\n",
       "      <td>-1.600853</td>\n",
       "    </tr>\n",
       "    <tr>\n",
       "      <th>...</th>\n",
       "      <td>...</td>\n",
       "      <td>...</td>\n",
       "      <td>...</td>\n",
       "      <td>...</td>\n",
       "      <td>...</td>\n",
       "      <td>...</td>\n",
       "      <td>...</td>\n",
       "      <td>...</td>\n",
       "      <td>...</td>\n",
       "      <td>...</td>\n",
       "      <td>...</td>\n",
       "      <td>...</td>\n",
       "      <td>...</td>\n",
       "      <td>...</td>\n",
       "      <td>...</td>\n",
       "      <td>...</td>\n",
       "      <td>...</td>\n",
       "      <td>...</td>\n",
       "      <td>...</td>\n",
       "      <td>...</td>\n",
       "      <td>...</td>\n",
       "    </tr>\n",
       "    <tr>\n",
       "      <th>360</th>\n",
       "      <td>1</td>\n",
       "      <td>2021-05-02</td>\n",
       "      <td>57910.855965</td>\n",
       "      <td>56701.923053</td>\n",
       "      <td>57910.855965</td>\n",
       "      <td>56701.923053</td>\n",
       "      <td>45106194800</td>\n",
       "      <td>1.076592e+12</td>\n",
       "      <td>45871</td>\n",
       "      <td>19224</td>\n",
       "      <td>...</td>\n",
       "      <td>1.0</td>\n",
       "      <td>5.0</td>\n",
       "      <td>161842</td>\n",
       "      <td>222439</td>\n",
       "      <td>1</td>\n",
       "      <td>995999</td>\n",
       "      <td>22.333255</td>\n",
       "      <td>2297252739235</td>\n",
       "      <td>46.864309</td>\n",
       "      <td>-1.945530</td>\n",
       "    </tr>\n",
       "    <tr>\n",
       "      <th>361</th>\n",
       "      <td>1</td>\n",
       "      <td>2021-05-03</td>\n",
       "      <td>59821.271447</td>\n",
       "      <td>57333.986544</td>\n",
       "      <td>59920.058393</td>\n",
       "      <td>57333.986544</td>\n",
       "      <td>61352700656</td>\n",
       "      <td>1.075031e+12</td>\n",
       "      <td>53420</td>\n",
       "      <td>22946</td>\n",
       "      <td>...</td>\n",
       "      <td>6.0</td>\n",
       "      <td>7.0</td>\n",
       "      <td>155417</td>\n",
       "      <td>251654</td>\n",
       "      <td>1</td>\n",
       "      <td>1204465</td>\n",
       "      <td>20.893426</td>\n",
       "      <td>2388467421328</td>\n",
       "      <td>45.009229</td>\n",
       "      <td>1.114713</td>\n",
       "    </tr>\n",
       "    <tr>\n",
       "      <th>362</th>\n",
       "      <td>1</td>\n",
       "      <td>2021-05-04</td>\n",
       "      <td>56420.250356</td>\n",
       "      <td>53422.379991</td>\n",
       "      <td>56420.250356</td>\n",
       "      <td>53422.379991</td>\n",
       "      <td>80573889830</td>\n",
       "      <td>1.041267e+12</td>\n",
       "      <td>45176</td>\n",
       "      <td>23663</td>\n",
       "      <td>...</td>\n",
       "      <td>4.0</td>\n",
       "      <td>12.0</td>\n",
       "      <td>143668</td>\n",
       "      <td>259449</td>\n",
       "      <td>1</td>\n",
       "      <td>1453028</td>\n",
       "      <td>17.855747</td>\n",
       "      <td>2267388525679</td>\n",
       "      <td>45.923609</td>\n",
       "      <td>-6.822492</td>\n",
       "    </tr>\n",
       "    <tr>\n",
       "      <th>363</th>\n",
       "      <td>1</td>\n",
       "      <td>2021-05-05</td>\n",
       "      <td>54594.895265</td>\n",
       "      <td>57524.231735</td>\n",
       "      <td>57524.231735</td>\n",
       "      <td>54594.895265</td>\n",
       "      <td>87532745708</td>\n",
       "      <td>1.020221e+12</td>\n",
       "      <td>44439</td>\n",
       "      <td>23320</td>\n",
       "      <td>...</td>\n",
       "      <td>4.0</td>\n",
       "      <td>5.0</td>\n",
       "      <td>173059</td>\n",
       "      <td>291791</td>\n",
       "      <td>1</td>\n",
       "      <td>1596123</td>\n",
       "      <td>18.281235</td>\n",
       "      <td>2471362008024</td>\n",
       "      <td>41.281740</td>\n",
       "      <td>7.678152</td>\n",
       "    </tr>\n",
       "    <tr>\n",
       "      <th>364</th>\n",
       "      <td>1</td>\n",
       "      <td>2021-05-06</td>\n",
       "      <td>57334.157139</td>\n",
       "      <td>56361.761928</td>\n",
       "      <td>57712.985840</td>\n",
       "      <td>56607.352745</td>\n",
       "      <td>64799347764</td>\n",
       "      <td>1.068336e+12</td>\n",
       "      <td>36004</td>\n",
       "      <td>19720</td>\n",
       "      <td>...</td>\n",
       "      <td>7.0</td>\n",
       "      <td>23.0</td>\n",
       "      <td>189515</td>\n",
       "      <td>253563</td>\n",
       "      <td>1</td>\n",
       "      <td>1266284</td>\n",
       "      <td>20.024181</td>\n",
       "      <td>2452867738776</td>\n",
       "      <td>43.554579</td>\n",
       "      <td>-1.780000</td>\n",
       "    </tr>\n",
       "  </tbody>\n",
       "</table>\n",
       "<p>365 rows × 60 columns</p>\n",
       "</div>"
      ],
      "text/plain": [
       "     asset_id       time          open         close          high  \\\n",
       "0           1 2020-05-07   9339.670316   9972.584023   9972.584023   \n",
       "1           1 2020-05-08   9942.673964   9844.867939   9942.673964   \n",
       "2           1 2020-05-09   9829.918495   9574.098730   9829.918495   \n",
       "3           1 2020-05-10   9260.257076   8750.250756   9260.257076   \n",
       "4           1 2020-05-11   8708.713290   8610.172121   9010.995404   \n",
       "..        ...        ...           ...           ...           ...   \n",
       "360         1 2021-05-02  57910.855965  56701.923053  57910.855965   \n",
       "361         1 2021-05-03  59821.271447  57333.986544  59920.058393   \n",
       "362         1 2021-05-04  56420.250356  53422.379991  56420.250356   \n",
       "363         1 2021-05-05  54594.895265  57524.231735  57524.231735   \n",
       "364         1 2021-05-06  57334.157139  56361.761928  57712.985840   \n",
       "\n",
       "              low       volume    market_cap  url_shares  unique_url_shares  \\\n",
       "0     9339.670316  66200111108  1.720972e+11       39758              23668   \n",
       "1     9833.070782  57650692921  1.810168e+11       37721              22187   \n",
       "2     9574.098730  48237707683  1.779054e+11       37514              19693   \n",
       "3     8355.023315  69141896093  1.604725e+11       37403              20559   \n",
       "4     8395.370859  63796473623  1.637024e+11       54206              29210   \n",
       "..            ...          ...           ...         ...                ...   \n",
       "360  56701.923053  45106194800  1.076592e+12       45871              19224   \n",
       "361  57333.986544  61352700656  1.075031e+12       53420              22946   \n",
       "362  53422.379991  80573889830  1.041267e+12       45176              23663   \n",
       "363  54594.895265  87532745708  1.020221e+12       44439              23320   \n",
       "364  56607.352745  64799347764  1.068336e+12       36004              19720   \n",
       "\n",
       "     ...  medium  youtube  social_contributors  social_volume  price_btc  \\\n",
       "0    ...    30.0     56.0                28758         193886          1   \n",
       "1    ...    25.0     48.0                36141         160423          1   \n",
       "2    ...    24.0     63.0                28251         162925          1   \n",
       "3    ...    26.0     67.0                34522         159492          1   \n",
       "4    ...    39.0     77.0                31069         281147          1   \n",
       "..   ...     ...      ...                  ...            ...        ...   \n",
       "360  ...     1.0      5.0               161842         222439          1   \n",
       "361  ...     6.0      7.0               155417         251654          1   \n",
       "362  ...     4.0     12.0               143668         259449          1   \n",
       "363  ...     4.0      5.0               173059         291791          1   \n",
       "364  ...     7.0     23.0               189515         253563          1   \n",
       "\n",
       "     social_volume_global  social_dominance  market_cap_global  \\\n",
       "0                  349379         55.494463       272568627918   \n",
       "1                  333372         48.121318       270067625347   \n",
       "2                  290032         56.174836       265101113579   \n",
       "3                  270693         58.919883       244002332325   \n",
       "4                  406627         69.141252       240427603037   \n",
       "..                    ...               ...                ...   \n",
       "360                995999         22.333255      2297252739235   \n",
       "361               1204465         20.893426      2388467421328   \n",
       "362               1453028         17.855747      2267388525679   \n",
       "363               1596123         18.281235      2471362008024   \n",
       "364               1266284         20.024181      2452867738776   \n",
       "\n",
       "     market_dominance  percent_change_24h  \n",
       "0           63.139021            9.183341  \n",
       "1           67.026478           -1.280672  \n",
       "2           67.108500           -2.750359  \n",
       "3           65.766781           -8.604966  \n",
       "4           68.088031           -1.600853  \n",
       "..                ...                 ...  \n",
       "360         46.864309           -1.945530  \n",
       "361         45.009229            1.114713  \n",
       "362         45.923609           -6.822492  \n",
       "363         41.281740            7.678152  \n",
       "364         43.554579           -1.780000  \n",
       "\n",
       "[365 rows x 60 columns]"
      ]
     },
     "execution_count": 187,
     "metadata": {},
     "output_type": "execute_result"
    }
   ],
   "source": [
    "x = get_coin_data('BTC',data_points=365,interval='day')\n",
    "x = pd.DataFrame.from_dict(x[0])\n",
    "x"
   ]
  },
  {
   "cell_type": "code",
   "execution_count": 188,
   "metadata": {},
   "outputs": [
    {
     "data": {
      "application/vnd.plotly.v1+json": {
       "config": {
        "plotlyServerURL": "https://plot.ly"
       },
       "data": [
        {
         "domain": {
          "x": [
           0,
           1
          ],
          "y": [
           0,
           1
          ]
         },
         "mode": "gauge+number",
         "title": {
          "text": "Price"
         },
         "type": "indicator",
         "value": 450
        }
       ],
       "layout": {
        "template": {
         "data": {
          "bar": [
           {
            "error_x": {
             "color": "#2a3f5f"
            },
            "error_y": {
             "color": "#2a3f5f"
            },
            "marker": {
             "line": {
              "color": "#E5ECF6",
              "width": 0.5
             }
            },
            "type": "bar"
           }
          ],
          "barpolar": [
           {
            "marker": {
             "line": {
              "color": "#E5ECF6",
              "width": 0.5
             }
            },
            "type": "barpolar"
           }
          ],
          "carpet": [
           {
            "aaxis": {
             "endlinecolor": "#2a3f5f",
             "gridcolor": "white",
             "linecolor": "white",
             "minorgridcolor": "white",
             "startlinecolor": "#2a3f5f"
            },
            "baxis": {
             "endlinecolor": "#2a3f5f",
             "gridcolor": "white",
             "linecolor": "white",
             "minorgridcolor": "white",
             "startlinecolor": "#2a3f5f"
            },
            "type": "carpet"
           }
          ],
          "choropleth": [
           {
            "colorbar": {
             "outlinewidth": 0,
             "ticks": ""
            },
            "type": "choropleth"
           }
          ],
          "contour": [
           {
            "colorbar": {
             "outlinewidth": 0,
             "ticks": ""
            },
            "colorscale": [
             [
              0,
              "#0d0887"
             ],
             [
              0.1111111111111111,
              "#46039f"
             ],
             [
              0.2222222222222222,
              "#7201a8"
             ],
             [
              0.3333333333333333,
              "#9c179e"
             ],
             [
              0.4444444444444444,
              "#bd3786"
             ],
             [
              0.5555555555555556,
              "#d8576b"
             ],
             [
              0.6666666666666666,
              "#ed7953"
             ],
             [
              0.7777777777777778,
              "#fb9f3a"
             ],
             [
              0.8888888888888888,
              "#fdca26"
             ],
             [
              1,
              "#f0f921"
             ]
            ],
            "type": "contour"
           }
          ],
          "contourcarpet": [
           {
            "colorbar": {
             "outlinewidth": 0,
             "ticks": ""
            },
            "type": "contourcarpet"
           }
          ],
          "heatmap": [
           {
            "colorbar": {
             "outlinewidth": 0,
             "ticks": ""
            },
            "colorscale": [
             [
              0,
              "#0d0887"
             ],
             [
              0.1111111111111111,
              "#46039f"
             ],
             [
              0.2222222222222222,
              "#7201a8"
             ],
             [
              0.3333333333333333,
              "#9c179e"
             ],
             [
              0.4444444444444444,
              "#bd3786"
             ],
             [
              0.5555555555555556,
              "#d8576b"
             ],
             [
              0.6666666666666666,
              "#ed7953"
             ],
             [
              0.7777777777777778,
              "#fb9f3a"
             ],
             [
              0.8888888888888888,
              "#fdca26"
             ],
             [
              1,
              "#f0f921"
             ]
            ],
            "type": "heatmap"
           }
          ],
          "heatmapgl": [
           {
            "colorbar": {
             "outlinewidth": 0,
             "ticks": ""
            },
            "colorscale": [
             [
              0,
              "#0d0887"
             ],
             [
              0.1111111111111111,
              "#46039f"
             ],
             [
              0.2222222222222222,
              "#7201a8"
             ],
             [
              0.3333333333333333,
              "#9c179e"
             ],
             [
              0.4444444444444444,
              "#bd3786"
             ],
             [
              0.5555555555555556,
              "#d8576b"
             ],
             [
              0.6666666666666666,
              "#ed7953"
             ],
             [
              0.7777777777777778,
              "#fb9f3a"
             ],
             [
              0.8888888888888888,
              "#fdca26"
             ],
             [
              1,
              "#f0f921"
             ]
            ],
            "type": "heatmapgl"
           }
          ],
          "histogram": [
           {
            "marker": {
             "colorbar": {
              "outlinewidth": 0,
              "ticks": ""
             }
            },
            "type": "histogram"
           }
          ],
          "histogram2d": [
           {
            "colorbar": {
             "outlinewidth": 0,
             "ticks": ""
            },
            "colorscale": [
             [
              0,
              "#0d0887"
             ],
             [
              0.1111111111111111,
              "#46039f"
             ],
             [
              0.2222222222222222,
              "#7201a8"
             ],
             [
              0.3333333333333333,
              "#9c179e"
             ],
             [
              0.4444444444444444,
              "#bd3786"
             ],
             [
              0.5555555555555556,
              "#d8576b"
             ],
             [
              0.6666666666666666,
              "#ed7953"
             ],
             [
              0.7777777777777778,
              "#fb9f3a"
             ],
             [
              0.8888888888888888,
              "#fdca26"
             ],
             [
              1,
              "#f0f921"
             ]
            ],
            "type": "histogram2d"
           }
          ],
          "histogram2dcontour": [
           {
            "colorbar": {
             "outlinewidth": 0,
             "ticks": ""
            },
            "colorscale": [
             [
              0,
              "#0d0887"
             ],
             [
              0.1111111111111111,
              "#46039f"
             ],
             [
              0.2222222222222222,
              "#7201a8"
             ],
             [
              0.3333333333333333,
              "#9c179e"
             ],
             [
              0.4444444444444444,
              "#bd3786"
             ],
             [
              0.5555555555555556,
              "#d8576b"
             ],
             [
              0.6666666666666666,
              "#ed7953"
             ],
             [
              0.7777777777777778,
              "#fb9f3a"
             ],
             [
              0.8888888888888888,
              "#fdca26"
             ],
             [
              1,
              "#f0f921"
             ]
            ],
            "type": "histogram2dcontour"
           }
          ],
          "mesh3d": [
           {
            "colorbar": {
             "outlinewidth": 0,
             "ticks": ""
            },
            "type": "mesh3d"
           }
          ],
          "parcoords": [
           {
            "line": {
             "colorbar": {
              "outlinewidth": 0,
              "ticks": ""
             }
            },
            "type": "parcoords"
           }
          ],
          "pie": [
           {
            "automargin": true,
            "type": "pie"
           }
          ],
          "scatter": [
           {
            "marker": {
             "colorbar": {
              "outlinewidth": 0,
              "ticks": ""
             }
            },
            "type": "scatter"
           }
          ],
          "scatter3d": [
           {
            "line": {
             "colorbar": {
              "outlinewidth": 0,
              "ticks": ""
             }
            },
            "marker": {
             "colorbar": {
              "outlinewidth": 0,
              "ticks": ""
             }
            },
            "type": "scatter3d"
           }
          ],
          "scattercarpet": [
           {
            "marker": {
             "colorbar": {
              "outlinewidth": 0,
              "ticks": ""
             }
            },
            "type": "scattercarpet"
           }
          ],
          "scattergeo": [
           {
            "marker": {
             "colorbar": {
              "outlinewidth": 0,
              "ticks": ""
             }
            },
            "type": "scattergeo"
           }
          ],
          "scattergl": [
           {
            "marker": {
             "colorbar": {
              "outlinewidth": 0,
              "ticks": ""
             }
            },
            "type": "scattergl"
           }
          ],
          "scattermapbox": [
           {
            "marker": {
             "colorbar": {
              "outlinewidth": 0,
              "ticks": ""
             }
            },
            "type": "scattermapbox"
           }
          ],
          "scatterpolar": [
           {
            "marker": {
             "colorbar": {
              "outlinewidth": 0,
              "ticks": ""
             }
            },
            "type": "scatterpolar"
           }
          ],
          "scatterpolargl": [
           {
            "marker": {
             "colorbar": {
              "outlinewidth": 0,
              "ticks": ""
             }
            },
            "type": "scatterpolargl"
           }
          ],
          "scatterternary": [
           {
            "marker": {
             "colorbar": {
              "outlinewidth": 0,
              "ticks": ""
             }
            },
            "type": "scatterternary"
           }
          ],
          "surface": [
           {
            "colorbar": {
             "outlinewidth": 0,
             "ticks": ""
            },
            "colorscale": [
             [
              0,
              "#0d0887"
             ],
             [
              0.1111111111111111,
              "#46039f"
             ],
             [
              0.2222222222222222,
              "#7201a8"
             ],
             [
              0.3333333333333333,
              "#9c179e"
             ],
             [
              0.4444444444444444,
              "#bd3786"
             ],
             [
              0.5555555555555556,
              "#d8576b"
             ],
             [
              0.6666666666666666,
              "#ed7953"
             ],
             [
              0.7777777777777778,
              "#fb9f3a"
             ],
             [
              0.8888888888888888,
              "#fdca26"
             ],
             [
              1,
              "#f0f921"
             ]
            ],
            "type": "surface"
           }
          ],
          "table": [
           {
            "cells": {
             "fill": {
              "color": "#EBF0F8"
             },
             "line": {
              "color": "white"
             }
            },
            "header": {
             "fill": {
              "color": "#C8D4E3"
             },
             "line": {
              "color": "white"
             }
            },
            "type": "table"
           }
          ]
         },
         "layout": {
          "annotationdefaults": {
           "arrowcolor": "#2a3f5f",
           "arrowhead": 0,
           "arrowwidth": 1
          },
          "autotypenumbers": "strict",
          "coloraxis": {
           "colorbar": {
            "outlinewidth": 0,
            "ticks": ""
           }
          },
          "colorscale": {
           "diverging": [
            [
             0,
             "#8e0152"
            ],
            [
             0.1,
             "#c51b7d"
            ],
            [
             0.2,
             "#de77ae"
            ],
            [
             0.3,
             "#f1b6da"
            ],
            [
             0.4,
             "#fde0ef"
            ],
            [
             0.5,
             "#f7f7f7"
            ],
            [
             0.6,
             "#e6f5d0"
            ],
            [
             0.7,
             "#b8e186"
            ],
            [
             0.8,
             "#7fbc41"
            ],
            [
             0.9,
             "#4d9221"
            ],
            [
             1,
             "#276419"
            ]
           ],
           "sequential": [
            [
             0,
             "#0d0887"
            ],
            [
             0.1111111111111111,
             "#46039f"
            ],
            [
             0.2222222222222222,
             "#7201a8"
            ],
            [
             0.3333333333333333,
             "#9c179e"
            ],
            [
             0.4444444444444444,
             "#bd3786"
            ],
            [
             0.5555555555555556,
             "#d8576b"
            ],
            [
             0.6666666666666666,
             "#ed7953"
            ],
            [
             0.7777777777777778,
             "#fb9f3a"
            ],
            [
             0.8888888888888888,
             "#fdca26"
            ],
            [
             1,
             "#f0f921"
            ]
           ],
           "sequentialminus": [
            [
             0,
             "#0d0887"
            ],
            [
             0.1111111111111111,
             "#46039f"
            ],
            [
             0.2222222222222222,
             "#7201a8"
            ],
            [
             0.3333333333333333,
             "#9c179e"
            ],
            [
             0.4444444444444444,
             "#bd3786"
            ],
            [
             0.5555555555555556,
             "#d8576b"
            ],
            [
             0.6666666666666666,
             "#ed7953"
            ],
            [
             0.7777777777777778,
             "#fb9f3a"
            ],
            [
             0.8888888888888888,
             "#fdca26"
            ],
            [
             1,
             "#f0f921"
            ]
           ]
          },
          "colorway": [
           "#636efa",
           "#EF553B",
           "#00cc96",
           "#ab63fa",
           "#FFA15A",
           "#19d3f3",
           "#FF6692",
           "#B6E880",
           "#FF97FF",
           "#FECB52"
          ],
          "font": {
           "color": "#2a3f5f"
          },
          "geo": {
           "bgcolor": "white",
           "lakecolor": "white",
           "landcolor": "#E5ECF6",
           "showlakes": true,
           "showland": true,
           "subunitcolor": "white"
          },
          "hoverlabel": {
           "align": "left"
          },
          "hovermode": "closest",
          "mapbox": {
           "style": "light"
          },
          "paper_bgcolor": "white",
          "plot_bgcolor": "#E5ECF6",
          "polar": {
           "angularaxis": {
            "gridcolor": "white",
            "linecolor": "white",
            "ticks": ""
           },
           "bgcolor": "#E5ECF6",
           "radialaxis": {
            "gridcolor": "white",
            "linecolor": "white",
            "ticks": ""
           }
          },
          "scene": {
           "xaxis": {
            "backgroundcolor": "#E5ECF6",
            "gridcolor": "white",
            "gridwidth": 2,
            "linecolor": "white",
            "showbackground": true,
            "ticks": "",
            "zerolinecolor": "white"
           },
           "yaxis": {
            "backgroundcolor": "#E5ECF6",
            "gridcolor": "white",
            "gridwidth": 2,
            "linecolor": "white",
            "showbackground": true,
            "ticks": "",
            "zerolinecolor": "white"
           },
           "zaxis": {
            "backgroundcolor": "#E5ECF6",
            "gridcolor": "white",
            "gridwidth": 2,
            "linecolor": "white",
            "showbackground": true,
            "ticks": "",
            "zerolinecolor": "white"
           }
          },
          "shapedefaults": {
           "line": {
            "color": "#2a3f5f"
           }
          },
          "ternary": {
           "aaxis": {
            "gridcolor": "white",
            "linecolor": "white",
            "ticks": ""
           },
           "baxis": {
            "gridcolor": "white",
            "linecolor": "white",
            "ticks": ""
           },
           "bgcolor": "#E5ECF6",
           "caxis": {
            "gridcolor": "white",
            "linecolor": "white",
            "ticks": ""
           }
          },
          "title": {
           "x": 0.05
          },
          "xaxis": {
           "automargin": true,
           "gridcolor": "white",
           "linecolor": "white",
           "ticks": "",
           "title": {
            "standoff": 15
           },
           "zerolinecolor": "white",
           "zerolinewidth": 2
          },
          "yaxis": {
           "automargin": true,
           "gridcolor": "white",
           "linecolor": "white",
           "ticks": "",
           "title": {
            "standoff": 15
           },
           "zerolinecolor": "white",
           "zerolinewidth": 2
          }
         }
        }
       }
      },
      "text/html": [
       "<div>                            <div id=\"dd1274c2-ec5f-4091-bf2e-b8de96c43124\" class=\"plotly-graph-div\" style=\"height:525px; width:100%;\"></div>            <script type=\"text/javascript\">                require([\"plotly\"], function(Plotly) {                    window.PLOTLYENV=window.PLOTLYENV || {};                                    if (document.getElementById(\"dd1274c2-ec5f-4091-bf2e-b8de96c43124\")) {                    Plotly.newPlot(                        \"dd1274c2-ec5f-4091-bf2e-b8de96c43124\",                        [{\"domain\": {\"x\": [0, 1], \"y\": [0, 1]}, \"mode\": \"gauge+number\", \"title\": {\"text\": \"Price\"}, \"type\": \"indicator\", \"value\": 450}],                        {\"template\": {\"data\": {\"bar\": [{\"error_x\": {\"color\": \"#2a3f5f\"}, \"error_y\": {\"color\": \"#2a3f5f\"}, \"marker\": {\"line\": {\"color\": \"#E5ECF6\", \"width\": 0.5}}, \"type\": \"bar\"}], \"barpolar\": [{\"marker\": {\"line\": {\"color\": \"#E5ECF6\", \"width\": 0.5}}, \"type\": \"barpolar\"}], \"carpet\": [{\"aaxis\": {\"endlinecolor\": \"#2a3f5f\", \"gridcolor\": \"white\", \"linecolor\": \"white\", \"minorgridcolor\": \"white\", \"startlinecolor\": \"#2a3f5f\"}, \"baxis\": {\"endlinecolor\": \"#2a3f5f\", \"gridcolor\": \"white\", \"linecolor\": \"white\", \"minorgridcolor\": \"white\", \"startlinecolor\": \"#2a3f5f\"}, \"type\": \"carpet\"}], \"choropleth\": [{\"colorbar\": {\"outlinewidth\": 0, \"ticks\": \"\"}, \"type\": \"choropleth\"}], \"contour\": [{\"colorbar\": {\"outlinewidth\": 0, \"ticks\": \"\"}, \"colorscale\": [[0.0, \"#0d0887\"], [0.1111111111111111, \"#46039f\"], [0.2222222222222222, \"#7201a8\"], [0.3333333333333333, \"#9c179e\"], [0.4444444444444444, \"#bd3786\"], [0.5555555555555556, \"#d8576b\"], [0.6666666666666666, \"#ed7953\"], [0.7777777777777778, \"#fb9f3a\"], [0.8888888888888888, \"#fdca26\"], [1.0, \"#f0f921\"]], \"type\": \"contour\"}], \"contourcarpet\": [{\"colorbar\": {\"outlinewidth\": 0, \"ticks\": \"\"}, \"type\": \"contourcarpet\"}], \"heatmap\": [{\"colorbar\": {\"outlinewidth\": 0, \"ticks\": \"\"}, \"colorscale\": [[0.0, \"#0d0887\"], [0.1111111111111111, \"#46039f\"], [0.2222222222222222, \"#7201a8\"], [0.3333333333333333, \"#9c179e\"], [0.4444444444444444, \"#bd3786\"], [0.5555555555555556, \"#d8576b\"], [0.6666666666666666, \"#ed7953\"], [0.7777777777777778, \"#fb9f3a\"], [0.8888888888888888, \"#fdca26\"], [1.0, \"#f0f921\"]], \"type\": \"heatmap\"}], \"heatmapgl\": [{\"colorbar\": {\"outlinewidth\": 0, \"ticks\": \"\"}, \"colorscale\": [[0.0, \"#0d0887\"], [0.1111111111111111, \"#46039f\"], [0.2222222222222222, \"#7201a8\"], [0.3333333333333333, \"#9c179e\"], [0.4444444444444444, \"#bd3786\"], [0.5555555555555556, \"#d8576b\"], [0.6666666666666666, \"#ed7953\"], [0.7777777777777778, \"#fb9f3a\"], [0.8888888888888888, \"#fdca26\"], [1.0, \"#f0f921\"]], \"type\": \"heatmapgl\"}], \"histogram\": [{\"marker\": {\"colorbar\": {\"outlinewidth\": 0, \"ticks\": \"\"}}, \"type\": \"histogram\"}], \"histogram2d\": [{\"colorbar\": {\"outlinewidth\": 0, \"ticks\": \"\"}, \"colorscale\": [[0.0, \"#0d0887\"], [0.1111111111111111, \"#46039f\"], [0.2222222222222222, \"#7201a8\"], [0.3333333333333333, \"#9c179e\"], [0.4444444444444444, \"#bd3786\"], [0.5555555555555556, \"#d8576b\"], [0.6666666666666666, \"#ed7953\"], [0.7777777777777778, \"#fb9f3a\"], [0.8888888888888888, \"#fdca26\"], [1.0, \"#f0f921\"]], \"type\": \"histogram2d\"}], \"histogram2dcontour\": [{\"colorbar\": {\"outlinewidth\": 0, \"ticks\": \"\"}, \"colorscale\": [[0.0, \"#0d0887\"], [0.1111111111111111, \"#46039f\"], [0.2222222222222222, \"#7201a8\"], [0.3333333333333333, \"#9c179e\"], [0.4444444444444444, \"#bd3786\"], [0.5555555555555556, \"#d8576b\"], [0.6666666666666666, \"#ed7953\"], [0.7777777777777778, \"#fb9f3a\"], [0.8888888888888888, \"#fdca26\"], [1.0, \"#f0f921\"]], \"type\": \"histogram2dcontour\"}], \"mesh3d\": [{\"colorbar\": {\"outlinewidth\": 0, \"ticks\": \"\"}, \"type\": \"mesh3d\"}], \"parcoords\": [{\"line\": {\"colorbar\": {\"outlinewidth\": 0, \"ticks\": \"\"}}, \"type\": \"parcoords\"}], \"pie\": [{\"automargin\": true, \"type\": \"pie\"}], \"scatter\": [{\"marker\": {\"colorbar\": {\"outlinewidth\": 0, \"ticks\": \"\"}}, \"type\": \"scatter\"}], \"scatter3d\": [{\"line\": {\"colorbar\": {\"outlinewidth\": 0, \"ticks\": \"\"}}, \"marker\": {\"colorbar\": {\"outlinewidth\": 0, \"ticks\": \"\"}}, \"type\": \"scatter3d\"}], \"scattercarpet\": [{\"marker\": {\"colorbar\": {\"outlinewidth\": 0, \"ticks\": \"\"}}, \"type\": \"scattercarpet\"}], \"scattergeo\": [{\"marker\": {\"colorbar\": {\"outlinewidth\": 0, \"ticks\": \"\"}}, \"type\": \"scattergeo\"}], \"scattergl\": [{\"marker\": {\"colorbar\": {\"outlinewidth\": 0, \"ticks\": \"\"}}, \"type\": \"scattergl\"}], \"scattermapbox\": [{\"marker\": {\"colorbar\": {\"outlinewidth\": 0, \"ticks\": \"\"}}, \"type\": \"scattermapbox\"}], \"scatterpolar\": [{\"marker\": {\"colorbar\": {\"outlinewidth\": 0, \"ticks\": \"\"}}, \"type\": \"scatterpolar\"}], \"scatterpolargl\": [{\"marker\": {\"colorbar\": {\"outlinewidth\": 0, \"ticks\": \"\"}}, \"type\": \"scatterpolargl\"}], \"scatterternary\": [{\"marker\": {\"colorbar\": {\"outlinewidth\": 0, \"ticks\": \"\"}}, \"type\": \"scatterternary\"}], \"surface\": [{\"colorbar\": {\"outlinewidth\": 0, \"ticks\": \"\"}, \"colorscale\": [[0.0, \"#0d0887\"], [0.1111111111111111, \"#46039f\"], [0.2222222222222222, \"#7201a8\"], [0.3333333333333333, \"#9c179e\"], [0.4444444444444444, \"#bd3786\"], [0.5555555555555556, \"#d8576b\"], [0.6666666666666666, \"#ed7953\"], [0.7777777777777778, \"#fb9f3a\"], [0.8888888888888888, \"#fdca26\"], [1.0, \"#f0f921\"]], \"type\": \"surface\"}], \"table\": [{\"cells\": {\"fill\": {\"color\": \"#EBF0F8\"}, \"line\": {\"color\": \"white\"}}, \"header\": {\"fill\": {\"color\": \"#C8D4E3\"}, \"line\": {\"color\": \"white\"}}, \"type\": \"table\"}]}, \"layout\": {\"annotationdefaults\": {\"arrowcolor\": \"#2a3f5f\", \"arrowhead\": 0, \"arrowwidth\": 1}, \"autotypenumbers\": \"strict\", \"coloraxis\": {\"colorbar\": {\"outlinewidth\": 0, \"ticks\": \"\"}}, \"colorscale\": {\"diverging\": [[0, \"#8e0152\"], [0.1, \"#c51b7d\"], [0.2, \"#de77ae\"], [0.3, \"#f1b6da\"], [0.4, \"#fde0ef\"], [0.5, \"#f7f7f7\"], [0.6, \"#e6f5d0\"], [0.7, \"#b8e186\"], [0.8, \"#7fbc41\"], [0.9, \"#4d9221\"], [1, \"#276419\"]], \"sequential\": [[0.0, \"#0d0887\"], [0.1111111111111111, \"#46039f\"], [0.2222222222222222, \"#7201a8\"], [0.3333333333333333, \"#9c179e\"], [0.4444444444444444, \"#bd3786\"], [0.5555555555555556, \"#d8576b\"], [0.6666666666666666, \"#ed7953\"], [0.7777777777777778, \"#fb9f3a\"], [0.8888888888888888, \"#fdca26\"], [1.0, \"#f0f921\"]], \"sequentialminus\": [[0.0, \"#0d0887\"], [0.1111111111111111, \"#46039f\"], [0.2222222222222222, \"#7201a8\"], [0.3333333333333333, \"#9c179e\"], [0.4444444444444444, \"#bd3786\"], [0.5555555555555556, \"#d8576b\"], [0.6666666666666666, \"#ed7953\"], [0.7777777777777778, \"#fb9f3a\"], [0.8888888888888888, \"#fdca26\"], [1.0, \"#f0f921\"]]}, \"colorway\": [\"#636efa\", \"#EF553B\", \"#00cc96\", \"#ab63fa\", \"#FFA15A\", \"#19d3f3\", \"#FF6692\", \"#B6E880\", \"#FF97FF\", \"#FECB52\"], \"font\": {\"color\": \"#2a3f5f\"}, \"geo\": {\"bgcolor\": \"white\", \"lakecolor\": \"white\", \"landcolor\": \"#E5ECF6\", \"showlakes\": true, \"showland\": true, \"subunitcolor\": \"white\"}, \"hoverlabel\": {\"align\": \"left\"}, \"hovermode\": \"closest\", \"mapbox\": {\"style\": \"light\"}, \"paper_bgcolor\": \"white\", \"plot_bgcolor\": \"#E5ECF6\", \"polar\": {\"angularaxis\": {\"gridcolor\": \"white\", \"linecolor\": \"white\", \"ticks\": \"\"}, \"bgcolor\": \"#E5ECF6\", \"radialaxis\": {\"gridcolor\": \"white\", \"linecolor\": \"white\", \"ticks\": \"\"}}, \"scene\": {\"xaxis\": {\"backgroundcolor\": \"#E5ECF6\", \"gridcolor\": \"white\", \"gridwidth\": 2, \"linecolor\": \"white\", \"showbackground\": true, \"ticks\": \"\", \"zerolinecolor\": \"white\"}, \"yaxis\": {\"backgroundcolor\": \"#E5ECF6\", \"gridcolor\": \"white\", \"gridwidth\": 2, \"linecolor\": \"white\", \"showbackground\": true, \"ticks\": \"\", \"zerolinecolor\": \"white\"}, \"zaxis\": {\"backgroundcolor\": \"#E5ECF6\", \"gridcolor\": \"white\", \"gridwidth\": 2, \"linecolor\": \"white\", \"showbackground\": true, \"ticks\": \"\", \"zerolinecolor\": \"white\"}}, \"shapedefaults\": {\"line\": {\"color\": \"#2a3f5f\"}}, \"ternary\": {\"aaxis\": {\"gridcolor\": \"white\", \"linecolor\": \"white\", \"ticks\": \"\"}, \"baxis\": {\"gridcolor\": \"white\", \"linecolor\": \"white\", \"ticks\": \"\"}, \"bgcolor\": \"#E5ECF6\", \"caxis\": {\"gridcolor\": \"white\", \"linecolor\": \"white\", \"ticks\": \"\"}}, \"title\": {\"x\": 0.05}, \"xaxis\": {\"automargin\": true, \"gridcolor\": \"white\", \"linecolor\": \"white\", \"ticks\": \"\", \"title\": {\"standoff\": 15}, \"zerolinecolor\": \"white\", \"zerolinewidth\": 2}, \"yaxis\": {\"automargin\": true, \"gridcolor\": \"white\", \"linecolor\": \"white\", \"ticks\": \"\", \"title\": {\"standoff\": 15}, \"zerolinecolor\": \"white\", \"zerolinewidth\": 2}}}},                        {\"responsive\": true}                    ).then(function(){\n",
       "                            \n",
       "var gd = document.getElementById('dd1274c2-ec5f-4091-bf2e-b8de96c43124');\n",
       "var x = new MutationObserver(function (mutations, observer) {{\n",
       "        var display = window.getComputedStyle(gd).display;\n",
       "        if (!display || display === 'none') {{\n",
       "            console.log([gd, 'removed!']);\n",
       "            Plotly.purge(gd);\n",
       "            observer.disconnect();\n",
       "        }}\n",
       "}});\n",
       "\n",
       "// Listen for the removal of the full notebook cells\n",
       "var notebookContainer = gd.closest('#notebook-container');\n",
       "if (notebookContainer) {{\n",
       "    x.observe(notebookContainer, {childList: true});\n",
       "}}\n",
       "\n",
       "// Listen for the clearing of the current output cell\n",
       "var outputEl = gd.closest('.output');\n",
       "if (outputEl) {{\n",
       "    x.observe(outputEl, {childList: true});\n",
       "}}\n",
       "\n",
       "                        })                };                });            </script>        </div>"
      ]
     },
     "metadata": {},
     "output_type": "display_data"
    }
   ],
   "source": [
    "fig = go.Figure(go.Indicator(\n",
    "    mode = \"gauge+number\",\n",
    "    value = 450,\n",
    "    title = {'text': \"Price\"},\n",
    "    domain = {'x': [0, 1], 'y': [0, 1]}\n",
    "))\n",
    "\n",
    "fig.show()"
   ]
  },
  {
   "cell_type": "code",
   "execution_count": 189,
   "metadata": {},
   "outputs": [],
   "source": [
    "def build_header():\n",
    "    return html.Div([\n",
    "        html.Div([ \n",
    "            html.H4(\"Our Title\", className = 'app-header-title'),\n",
    "            html.P(\"Some descriptons, maybe our names or somethings like this\", 'app-header-subtitle'),\n",
    "        ], className = 'app-header-main'),\n",
    "        html.Img(\n",
    "            src = 'assets/crunchips.png',\n",
    "            className = 'logo'\n",
    "        ),\n",
    "        html.Audio(id = 'easter-egg', controls=True, autoPlay = True, hidden = True)\n",
    "    ], className = 'app-header')"
   ]
  },
  {
   "cell_type": "code",
   "execution_count": 198,
   "metadata": {},
   "outputs": [],
   "source": [
    "def build_tabs():\n",
    "    return html.Div(\n",
    "        id = 'tabs',\n",
    "        className=\"tabs\",\n",
    "        children = [\n",
    "            dcc.Tabs(\n",
    "                id = 'control-tabs',\n",
    "                value = 'tab1',\n",
    "                className=\"custom-tabs\",\n",
    "                children=[\n",
    "                    dcc.Tab(\n",
    "                        id = 'Main-tab',\n",
    "                        label = 'Main Tab',\n",
    "                        value = \"tab1\",\n",
    "                        className=\"custom-tabs\",\n",
    "                        selected_className=\"custom-tab--selected\",\n",
    "                    ),\n",
    "                    dcc.Tab(\n",
    "                        id = 'Sub-tab',\n",
    "                        label = 'Sub Tab',\n",
    "                        value = \"tab2\",\n",
    "                        className=\"custom-tabs\",\n",
    "                        selected_className=\"custom-tab--selected\",\n",
    "                    ),\n",
    "                    dcc.Tab(\n",
    "                        id = 'Rest-tab',\n",
    "                        label = 'Rest Tab',\n",
    "                        value = \"tab3\",\n",
    "                        className=\"custom-tabs\",\n",
    "                        selected_className=\"custom-tab--selected\",\n",
    "                    ),\n",
    "                ],\n",
    "            )\n",
    "        ],\n",
    "    )"
   ]
  },
  {
   "cell_type": "code",
   "execution_count": 191,
   "metadata": {},
   "outputs": [],
   "source": [
    "def get_social_coin_data(symbol):\n",
    "    url = 'https://api.lunarcrush.com/v2?data=assets&key=39o5gbbtx7n1gxkvnhf6na&symbol={}'.format(symbol)\n",
    "    response = requests.get(url).json()['data']\n",
    "\n",
    "    df = pd.json_normalize(\n",
    "                    response, \n",
    "                    record_path =['timeSeries'], \n",
    "                    meta=['symbol']\n",
    "                            )\n",
    "    df['time'] = pd.to_datetime(df['time'],unit='s')\n",
    "    df = df[['unique_url_shares','url_shares','reddit_posts','tweets','tweet_spam','time','symbol']]\n",
    "    return df"
   ]
  },
  {
   "cell_type": "code",
   "execution_count": 192,
   "metadata": {},
   "outputs": [],
   "source": [
    "z  = get_n_top_coins(n=50)\n",
    "coins = z['Symbol'].to_list()\n"
   ]
  },
  {
   "cell_type": "code",
   "execution_count": 193,
   "metadata": {},
   "outputs": [],
   "source": [
    "options = []\n",
    "for coin in coins:\n",
    "    options.append({'label': coin, 'value': coin})\n"
   ]
  },
  {
   "cell_type": "code",
   "execution_count": 194,
   "metadata": {},
   "outputs": [],
   "source": [
    "def build_tab_1():\n",
    "    return [\n",
    "        html.Div([\n",
    "            html.Div([get_market_table(),\n",
    "                     ],\n",
    "                     className = 'tabble-wrapper',\n",
    "                    ),\n",
    "            \n",
    "            html.Div([html.Div([html.P(\"Type:\"),\n",
    "                                dcc.Dropdown(id='types',\n",
    "                                             className = 'dropdown-type',\n",
    "                                             value='Market Dominance',\n",
    "                                             options=[{'label': x,\n",
    "                                                       'value': x,\n",
    "                                                      } for x in ['Market Dominance',\n",
    "                                                                  'Social Dominance',\n",
    "                                                                  'Number of tweets']],\n",
    "                                             clearable=False,\n",
    "                                             # trzeba pozmieniac jakos na naturalne kolory te dropdowny \n",
    "                                             style={ \n",
    "                                                    'font-family':'Lucida Console',\n",
    "                                                    'color':'#e5e9f0',\n",
    "                                                    'border':'0px',\n",
    "                                                    \n",
    "                                                   }),\n",
    "                                html.P(\"Enter a stock symbol:\"),\n",
    "                                dcc.Dropdown(id='selected_coins',\n",
    "                                             className = 'dropdown-top',\n",
    "                                             value=coins[:3],\n",
    "                                             options=options,\n",
    "                                             multi = True, \n",
    "                                             style={'color': '#e5e9f0',\n",
    "                                                    }),\n",
    "                               ], \n",
    "                               className = 'dropdowns-wrapper',\n",
    "                               # trzeba pozmieniac jakos na naturalne kolory te dropdowny \n",
    "                              style={\n",
    "                                  'color': '#e5e9f0',\n",
    "                                  'font-family':'Lucida Console',\n",
    "                                  \n",
    "                              }),\n",
    "                      html.Div([dcc.Graph(id=\"pie-chart\")],\n",
    "                               className = 'gauge-wrapper'),\n",
    "\n",
    "                html.Div([\n",
    "                    dcc.Graph(id=\"scatter-chart\")\n",
    "                ], className = 'scatter-wrapper')\n",
    "            ], className = 'bottom-wrapper')\n",
    "            \n",
    "        ], className = 'first-div')\n",
    "    ]"
   ]
  },
  {
   "cell_type": "code",
   "execution_count": 195,
   "metadata": {},
   "outputs": [],
   "source": [
    "def build_tab_2():\n",
    "    return [\n",
    "        html.Div([\n",
    "            html.Div([\n",
    "                html.Div([\n",
    "                    html.Label(\"Coin\"),\n",
    "                    dcc.Dropdown(\n",
    "                          id='coin-dropdown',\n",
    "                          clearable=False,\n",
    "                          value='BTC',\n",
    "                          options=[{'label': c, 'value': c} for c in coins],\n",
    "                            style={'color': '#212121'})\n",
    "                ],className = 'dropdowns-wrapper'),\n",
    "                html.Div([\n",
    "                    dcc.Graph(id='graph')\n",
    "                ], className = 'plotline-wrapper'),\n",
    "                html.Div([\n",
    "                    dcc.Graph(id='graph-social')\n",
    "                ], className = 'plotline-wrapper')\n",
    "                \n",
    "            ], className = 'top-wrapper')\n",
    "        ], className = 'second-div')\n",
    "    ]"
   ]
  },
  {
   "cell_type": "code",
   "execution_count": 196,
   "metadata": {},
   "outputs": [],
   "source": [
    "def build_tab_3():\n",
    "    return []"
   ]
  },
  {
   "cell_type": "code",
   "execution_count": 197,
   "metadata": {},
   "outputs": [
    {
     "name": "stdout",
     "output_type": "stream",
     "text": [
      "Dash app running on http://127.0.0.1:8054/\n"
     ]
    }
   ],
   "source": [
    "app = JupyterDash(__name__)\n",
    "app.layout = html.Div([\n",
    "    html.Div([\n",
    "        build_header(),\n",
    "        build_tabs(),\n",
    "        html.Div(id = 'app-content')\n",
    "    ], style = {'padding': 20})\n",
    "    \n",
    "])\n",
    "@app.callback(\n",
    "    Output('app-content', 'children'),\n",
    "    Input('control-tabs', 'value')\n",
    ")\n",
    "def prepare_top(tab_switch):\n",
    "    if tab_switch == 'tab1':\n",
    "        return build_tab_1()\n",
    "    elif tab_switch == 'tab2':\n",
    "        return build_tab_2()\n",
    "    else:\n",
    "        return build_tab_3()\n",
    "\n",
    "@app.callback(\n",
    "    [Output(\"pie-chart\", \"figure\"),\n",
    "     Output(\"scatter-chart\",\"figure\")], \n",
    "    [Input(\"types\", \"value\"),\n",
    "    Input('selected_coins','value')])\n",
    "def generate_chart(types,selected_coins):\n",
    "    df = get_n_top_coins(50)\n",
    "    df = df[df['Symbol'].isin(selected_coins)]\n",
    "    fig_pie = px.pie(df,\n",
    "                     values=df[types],\n",
    "                     names=df['Symbol'],\n",
    "                     hole=+.5,\n",
    "                     title=types,\n",
    "                    color_discrete_sequence= px.colors.sequential.Plasma_r)\n",
    "    \n",
    "    fig_pie.update_layout(plot_bgcolor = '#082255', paper_bgcolor = '#082255', font_color = '#FFFFFF', width = 400)\n",
    "    \n",
    "    fig_scatter = px.scatter(df,\n",
    "                             x=df['Price'],\n",
    "                             y=df['Volume'],\n",
    "                             size=df[types],\n",
    "                             color=df['Symbol'],\n",
    "                             hover_name=df['Symbol'],\n",
    "                             log_y=True,\n",
    "                             log_x=True,\n",
    "                             size_max=100,\n",
    "                             color_discrete_sequence= px.colors.sequential.Plasma_r)\n",
    "    fig_scatter.update_layout(title=types,\n",
    "                             xaxis_title=\"Price ($)\",\n",
    "                             yaxis_title=\"Volume($)\",\n",
    "                             plot_bgcolor='#082255',\n",
    "                             )\n",
    "    \n",
    "    fig_scatter.update_layout( paper_bgcolor = '#082255', \n",
    "                              font_color = '#FFFFFF',\n",
    "                              xaxis=dict(showgrid=False),\n",
    "                             yaxis=dict( gridcolor=\"#0f41a3\"),\n",
    "                             )\n",
    "    \n",
    "    return fig_pie,fig_scatter\n",
    "# @app.callback(\n",
    "#     Output('easter-egg', 'src'),\n",
    "#     Input('coin-dropdown', 'value')\n",
    "# )\n",
    "# def easteregg(coin):\n",
    "#     if coin =='DOGE':\n",
    "#         return 'assets/dog.wav'\n",
    "#     else:\n",
    "#         return ''\n",
    "@app.callback(\n",
    "    [Output('graph', 'figure'),\n",
    "     Output('graph-social', 'figure')] ,\n",
    "    [Input('coin-dropdown', 'value')]\n",
    ")\n",
    "def update_figure(coin):\n",
    "    x, details = get_coin_data(coin)\n",
    "    x['MA-Low'] = x.low.rolling(window=20).mean()\n",
    "    x['MA-High'] = x.high.rolling(window=20).mean()\n",
    "    fig = go.Figure(data=[go.Candlestick(x=x['time'],\n",
    "                                         open=x['open'],\n",
    "                                         high=x['high'],\n",
    "                                         low=x['low'],\n",
    "                                         close=x['close'],\n",
    "                                         name='{} price'.format(details['symbol']))])\n",
    "    \n",
    "    fig.update_layout(title=details['name'],\n",
    "                      yaxis_tickformat='$',\n",
    "                      xaxis_title='Date',\n",
    "                      yaxis_title='Price',\n",
    "                     )\n",
    "    \n",
    "    fig.update_xaxes(title_text='Date',\n",
    "                     rangeslider_visible=True,\n",
    "                     rangeselector=dict(buttons=list([dict(count=1,\n",
    "                                                           label='1M',\n",
    "                                                           step='month',\n",
    "                                                           stepmode='backward'),\n",
    "                                                      dict(count=6,\n",
    "                                                           label='6M',\n",
    "                                                           step='month',\n",
    "                                                           stepmode='backward'),\n",
    "                                                      dict(count=1,\n",
    "                                                           label='YTD',\n",
    "                                                           step='year', \n",
    "                                                           stepmode='todate'),\n",
    "                                                      dict(count=1,\n",
    "                                                           label='1Y', \n",
    "                                                           step='year', \n",
    "                                                           stepmode='backward'),\n",
    "                                                      dict(step='all')]), bgcolor='black'))\n",
    "    \n",
    "    fig.add_trace(go.Scatter(x=x['time'],\n",
    "                             y=x['MA-Low'],\n",
    "                             mode='lines',\n",
    "                             name='Low-Moving Average',\n",
    "                             line={'color':'#ff9100',\n",
    "                                  'width':1}))\n",
    "    fig.add_trace(go.Scatter(x=x['time'],\n",
    "                             y=x['MA-High'],\n",
    "                             mode='lines',\n",
    "                             name='High-Moving Average',\n",
    "                             line={'color':'#006eff',\n",
    "                                  'width':1}))\n",
    "    fig.update_layout(\n",
    "    xaxis=dict(\n",
    "        showline=True,\n",
    "        showgrid=False,\n",
    "        showticklabels=True,\n",
    "        linecolor='rgb(204, 204, 204)',\n",
    "        linewidth=2,\n",
    "        ticks='outside',\n",
    "        tickfont=dict(\n",
    "            family='Arial',\n",
    "            size=12,\n",
    "            color='#e5e9f0',\n",
    "        ),\n",
    "        ),\n",
    "        yaxis=dict(\n",
    "            showgrid=True,\n",
    "            zeroline=False,\n",
    "            showline=True,\n",
    "            showticklabels=True,\n",
    "            gridcolor=\"#0f41a3\",\n",
    "            color='#e5e9f0'\n",
    "    ),\n",
    "        showlegend=True,\n",
    "        plot_bgcolor='#082255',\n",
    "        xaxis_rangeslider_visible=False\n",
    "    )\n",
    "    fig.update_layout( paper_bgcolor = '#082255', font_color = '#FFFFFF', width = 1100)\n",
    "    \n",
    "    df = get_social_coin_data(coin)\n",
    "    mode_size = [8, 8, 8, 8]\n",
    "    colors = px.colors.sequential.Plasma_r\n",
    "    fig1 = go.Figure()\n",
    "    labels = ['unique_url_shares','url_shares','tweets','tweet_spam']\n",
    "    for j,i in enumerate(labels):\n",
    "        fig1.add_trace(go.Scatter(x=df['time'], y=df[i], mode='lines',\n",
    "            name=labels[j],\n",
    "            line=dict(color=colors[j], width=2),\n",
    "            connectgaps=True,\n",
    "        ))\n",
    "    \n",
    "    fig1.update_layout(\n",
    "        xaxis=dict(\n",
    "            showline=True,\n",
    "            showgrid=False,\n",
    "            showticklabels=True,\n",
    "            linecolor='rgb(204, 204, 204)',\n",
    "            linewidth=2,\n",
    "            ticks='outside',\n",
    "            tickfont=dict(\n",
    "                family='Lucida Console',\n",
    "                size=12,\n",
    "                color='#e5e9f0',\n",
    "            ),\n",
    "        ),\n",
    "        yaxis=dict(\n",
    "            showgrid=False,\n",
    "            zeroline=False,\n",
    "            showline=False,\n",
    "            showticklabels=True,\n",
    "        ),\n",
    "        autosize=False,\n",
    "        title=\"24 hours {} social\".format(coin),\n",
    "        xaxis_title=\"Date\",\n",
    "        yaxis_title=\"Number\",\n",
    "        showlegend=True,\n",
    "        plot_bgcolor='#082255',\n",
    "        paper_bgcolor = '#082255',\n",
    "        font_color = '#e5e9f0'\n",
    "    )\n",
    "\n",
    "    \n",
    "    \n",
    "    \n",
    "    \n",
    "    \n",
    "    \n",
    "    return fig,fig1\n",
    "\n",
    "app.run_server(mode='external', port = 8054)"
   ]
  },
  {
   "cell_type": "code",
   "execution_count": null,
   "metadata": {},
   "outputs": [],
   "source": []
  }
 ],
 "metadata": {
  "kernelspec": {
   "display_name": "Python 3",
   "language": "python",
   "name": "python3"
  },
  "language_info": {
   "codemirror_mode": {
    "name": "ipython",
    "version": 3
   },
   "file_extension": ".py",
   "mimetype": "text/x-python",
   "name": "python",
   "nbconvert_exporter": "python",
   "pygments_lexer": "ipython3",
   "version": "3.8.5"
  },
  "toc": {
   "base_numbering": 1,
   "nav_menu": {},
   "number_sections": true,
   "sideBar": true,
   "skip_h1_title": false,
   "title_cell": "Table of Contents",
   "title_sidebar": "Contents",
   "toc_cell": false,
   "toc_position": {},
   "toc_section_display": true,
   "toc_window_display": false
  }
 },
 "nbformat": 4,
 "nbformat_minor": 5
}
